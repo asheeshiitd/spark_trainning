{
 "cells": [
  {
   "cell_type": "markdown",
   "id": "7c30107b",
   "metadata": {},
   "source": [
    "# Custom Transformations"
   ]
  },
  {
   "cell_type": "code",
   "execution_count": 9,
   "id": "f4a08a6a",
   "metadata": {},
   "outputs": [],
   "source": [
    "import pyspark.sql.functions as F\n",
    "from pyspark.ml import Pipeline, Transformer\n",
    "from pyspark.sql import DataFrame\n",
    "from pyspark.sql.types import *\n",
    "from pyspark.sql import SparkSession\n",
    "import math\n",
    "spark = SparkSession.builder.appName(\"asheesh\").getOrCreate()"
   ]
  },
  {
   "cell_type": "code",
   "execution_count": 2,
   "id": "2664ff23",
   "metadata": {},
   "outputs": [],
   "source": [
    "from pyspark.ml.feature import Normalizer\n",
    "from pyspark.ml.linalg import Vectors\n",
    "\n",
    "df = spark.createDataFrame([\n",
    "    (0, Vectors.dense([1.0, 0.5, -1.0]),),\n",
    "    (1, Vectors.dense([2.0, 1.0, 1.0]),),\n",
    "    (2, Vectors.dense([4.0, 10.0, 2.0]),)\n",
    "], [\"id\", \"features\"])"
   ]
  },
  {
   "cell_type": "code",
   "execution_count": null,
   "id": "f9497fe3",
   "metadata": {},
   "outputs": [],
   "source": [
    "\n"
   ]
  },
  {
   "cell_type": "code",
   "execution_count": 3,
   "id": "806c38a0",
   "metadata": {},
   "outputs": [],
   "source": [
    "class Negative_Entropy(Transformer):   \n",
    "    def __init__(self,inputCol=\"features\", outputCol=\"negative_entropy\"):\n",
    "        super(Negative_Entropy, self).__init__()\n",
    "        self.inputCol=inputCol\n",
    "        self.outputCol=outputCol\n",
    "\n",
    "    def _transform(self, df: DataFrame) -> DataFrame:\n",
    "        df=df.withColumn(self.outputCol, F.udf(lambda z: sum([-(i+1.05)*math.log(i+1.05) for i in z.toArray().tolist()]),FloatType())(df[self.inputCol]))\n",
    "        return df"
   ]
  },
  {
   "cell_type": "code",
   "execution_count": 4,
   "id": "16ba3061",
   "metadata": {},
   "outputs": [
    {
     "name": "stderr",
     "output_type": "stream",
     "text": [
      "\r",
      "[Stage 0:>                                                          (0 + 1) / 1]\r",
      "                                                                                \r"
     ]
    },
    {
     "name": "stdout",
     "output_type": "stream",
     "text": [
      "+---+--------------+--------------------+\n",
      "| id|      features|        normFeatures|\n",
      "+---+--------------+--------------------+\n",
      "|  0|[1.0,0.5,-1.0]|[0.66666666666666...|\n",
      "|  1| [2.0,1.0,1.0]|[0.81649658092772...|\n",
      "|  2|[4.0,10.0,2.0]|[0.36514837167011...|\n",
      "+---+--------------+--------------------+\n",
      "\n"
     ]
    }
   ],
   "source": [
    "normalizer = Normalizer(inputCol=\"features\", outputCol=\"normFeatures\", p=2.0)\n",
    "df_norm=normalizer.transform(df)\n",
    "df_norm.show()"
   ]
  },
  {
   "cell_type": "code",
   "execution_count": 5,
   "id": "fd4192d4",
   "metadata": {},
   "outputs": [
    {
     "name": "stdout",
     "output_type": "stream",
     "text": [
      "+---+--------------+--------------------+----------------+\n",
      "| id|      features|        normFeatures|negative_entropy|\n",
      "+---+--------------+--------------------+----------------+\n",
      "|  0|[1.0,0.5,-1.0]|[0.66666666666666...|      -1.0089868|\n",
      "|  1| [2.0,1.0,1.0]|[0.81649658092772...|      -2.2650192|\n",
      "|  2|[4.0,10.0,2.0]|[0.36514837167011...|      -2.0729015|\n",
      "+---+--------------+--------------------+----------------+\n",
      "\n"
     ]
    }
   ],
   "source": [
    "negative_entropy=Negative_Entropy(inputCol=\"normFeatures\", outputCol=\"negative_entropy\")\n",
    "df_entropy=negative_entropy.transform(df_norm)\n",
    "df_entropy.show()"
   ]
  },
  {
   "cell_type": "markdown",
   "id": "15639553",
   "metadata": {},
   "source": [
    "## Using Pipeline"
   ]
  },
  {
   "cell_type": "code",
   "execution_count": 6,
   "id": "ee646c53",
   "metadata": {},
   "outputs": [],
   "source": [
    "pipeline = Pipeline(stages=[normalizer,negative_entropy])\n"
   ]
  },
  {
   "cell_type": "code",
   "execution_count": 7,
   "id": "5b25f424",
   "metadata": {},
   "outputs": [],
   "source": [
    "a=pipeline.fit(df)"
   ]
  },
  {
   "cell_type": "code",
   "execution_count": 8,
   "id": "ef788ca0",
   "metadata": {},
   "outputs": [
    {
     "name": "stdout",
     "output_type": "stream",
     "text": [
      "+---+--------------+--------------------+----------------+\n",
      "| id|      features|        normFeatures|negative_entropy|\n",
      "+---+--------------+--------------------+----------------+\n",
      "|  0|[1.0,0.5,-1.0]|[0.66666666666666...|      -1.0089868|\n",
      "|  1| [2.0,1.0,1.0]|[0.81649658092772...|      -2.2650192|\n",
      "|  2|[4.0,10.0,2.0]|[0.36514837167011...|      -2.0729015|\n",
      "+---+--------------+--------------------+----------------+\n",
      "\n"
     ]
    }
   ],
   "source": [
    "a.transform(df).show()"
   ]
  },
  {
   "cell_type": "code",
   "execution_count": null,
   "id": "58fbef9a",
   "metadata": {},
   "outputs": [],
   "source": []
  }
 ],
 "metadata": {
  "kernelspec": {
   "display_name": "Python 3 (ipykernel)",
   "language": "python",
   "name": "python3"
  },
  "language_info": {
   "codemirror_mode": {
    "name": "ipython",
    "version": 3
   },
   "file_extension": ".py",
   "mimetype": "text/x-python",
   "name": "python",
   "nbconvert_exporter": "python",
   "pygments_lexer": "ipython3",
   "version": "3.7.13"
  }
 },
 "nbformat": 4,
 "nbformat_minor": 5
}
