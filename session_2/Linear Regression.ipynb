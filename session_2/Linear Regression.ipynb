{
 "cells": [
  {
   "cell_type": "markdown",
   "id": "a7b93919",
   "metadata": {},
   "source": [
    "# Linear Regression"
   ]
  },
  {
   "cell_type": "code",
   "execution_count": 1,
   "id": "6913badd",
   "metadata": {},
   "outputs": [],
   "source": [
    "from pyspark.ml.regression import LinearRegression\n",
    "from pyspark.sql import SparkSession\n",
    "import scipy.stats as st\n",
    "import numpy as np\n",
    "import pandas as pd\n",
    "from pyspark.ml.feature import VectorAssembler\n",
    "from pyspark.ml import Pipeline\n",
    "from pyspark.ml.evaluation import RegressionEvaluator"
   ]
  },
  {
   "cell_type": "markdown",
   "id": "ea7e3245",
   "metadata": {},
   "source": [
    "### Randomly Genrate the Data"
   ]
  },
  {
   "cell_type": "code",
   "execution_count": 2,
   "id": "ff034593",
   "metadata": {},
   "outputs": [],
   "source": [
    "# Randomly Genrate the Data\n",
    "m=2\n",
    "c=5\n",
    "\n",
    "# Create pandas dataframe having 500 data points\n",
    "num_point=500\n",
    "x=np.linspace(start=0,stop=10,num=num_point)\n",
    "y = m*x + c + st.norm().rvs(num_point)\n",
    "df=pd.DataFrame({\"x\":x,\"y\":y})\n"
   ]
  },
  {
   "cell_type": "code",
   "execution_count": 3,
   "id": "1b533b06",
   "metadata": {},
   "outputs": [
    {
     "name": "stderr",
     "output_type": "stream",
     "text": [
      "22/04/05 09:11:09 WARN Utils: Your hostname, a-Lenovo-Legion-Y530-15ICH resolves to a loopback address: 127.0.1.1; using 192.168.1.4 instead (on interface wlp7s0)\n",
      "22/04/05 09:11:09 WARN Utils: Set SPARK_LOCAL_IP if you need to bind to another address\n",
      "22/04/05 09:11:09 WARN NativeCodeLoader: Unable to load native-hadoop library for your platform... using builtin-java classes where applicable\n",
      "Using Spark's default log4j profile: org/apache/spark/log4j-defaults.properties\n",
      "Setting default log level to \"WARN\".\n",
      "To adjust logging level use sc.setLogLevel(newLevel). For SparkR, use setLogLevel(newLevel).\n",
      "22/04/05 09:11:10 WARN Utils: Service 'SparkUI' could not bind on port 4040. Attempting port 4041.\n",
      "22/04/05 09:11:10 WARN Utils: Service 'SparkUI' could not bind on port 4041. Attempting port 4042.\n"
     ]
    }
   ],
   "source": [
    "# Create Spark session\n",
    "spark = SparkSession.builder.appName(\"asheesh\").getOrCreate()\n",
    "\n",
    "# Convert pandas datafrmae to spark dataframe\n",
    "df = spark.createDataFrame(df)"
   ]
  },
  {
   "cell_type": "markdown",
   "id": "9c0463b6",
   "metadata": {},
   "source": [
    "### Without Pipeline"
   ]
  },
  {
   "cell_type": "code",
   "execution_count": 4,
   "id": "4a24ab75",
   "metadata": {},
   "outputs": [
    {
     "name": "stdout",
     "output_type": "stream",
     "text": [
      "+--------------------+------------------+\n",
      "|         rawFeatures|                 y|\n",
      "+--------------------+------------------+\n",
      "|               [0.0]| 3.143243310075543|\n",
      "|[0.02004008016032...|3.9351219271088858|\n",
      "|[0.04008016032064...|5.1160815825151165|\n",
      "|[0.06012024048096...| 4.556468499246165|\n",
      "|[0.08016032064128...|5.8236679062038545|\n",
      "|[0.1002004008016032]| 6.601993866649372|\n",
      "|[0.12024048096192...| 5.915353255667452|\n",
      "|[0.1402805611222445]| 4.690303476261306|\n",
      "|[0.16032064128256...|6.6944377144739535|\n",
      "|[0.18036072144288...| 4.875275466981254|\n",
      "|[0.2004008016032064]| 4.550791169404153|\n",
      "|[0.22044088176352...| 5.561599099942741|\n",
      "|[0.24048096192384...|5.3541273971123315|\n",
      "|[0.2605210420841683]|5.1884012925193534|\n",
      "| [0.280561122244489]|3.7359781694187753|\n",
      "|[0.3006012024048096]| 6.142590495383834|\n",
      "|[0.32064128256513...|3.8532991444123104|\n",
      "|[0.3406813627254509]|4.9704226332255885|\n",
      "|[0.3607214428857715]|  5.98233622436208|\n",
      "|[0.3807615230460922]| 6.754053972640565|\n",
      "+--------------------+------------------+\n",
      "only showing top 20 rows\n",
      "\n"
     ]
    },
    {
     "name": "stderr",
     "output_type": "stream",
     "text": [
      "\r",
      "[Stage 0:>                                                          (0 + 1) / 1]\r",
      "                                                                                \r"
     ]
    }
   ],
   "source": [
    "# Create Vector\n",
    "vectorAssembler = VectorAssembler(inputCols=[\"x\"], outputCol=\"rawFeatures\")\n",
    "v_df = vectorAssembler.transform(df)\n",
    "v_df = v_df.select(['rawFeatures', 'y'])\n",
    "v_df.show()"
   ]
  },
  {
   "cell_type": "code",
   "execution_count": 5,
   "id": "9d73b1a8",
   "metadata": {},
   "outputs": [],
   "source": [
    "# Split the data into training and testing\n",
    "splits = v_df.randomSplit([0.7, 0.3])\n",
    "train_df,test_df = splits[0],splits[1]"
   ]
  },
  {
   "cell_type": "code",
   "execution_count": 6,
   "id": "50137c81",
   "metadata": {},
   "outputs": [
    {
     "name": "stderr",
     "output_type": "stream",
     "text": [
      "22/04/05 09:11:18 WARN BLAS: Failed to load implementation from: com.github.fommil.netlib.NativeSystemBLAS\n",
      "22/04/05 09:11:18 WARN BLAS: Failed to load implementation from: com.github.fommil.netlib.NativeRefBLAS\n"
     ]
    },
    {
     "name": "stdout",
     "output_type": "stream",
     "text": [
      "Coefficients: [1.9158929086544758]\n",
      "Intercept: 5.427339116827695\n"
     ]
    }
   ],
   "source": [
    "lr = LinearRegression(featuresCol=\"rawFeatures\", labelCol=\"y\",maxIter=10, regParam=0.3, elasticNetParam=0.8)\n",
    "lr_model = lr.fit(train_df)\n",
    "print(\"Coefficients: \" + str(lr_model.coefficients))\n",
    "print(\"Intercept: \" + str(lr_model.intercept))"
   ]
  },
  {
   "cell_type": "markdown",
   "id": "9e05beb6",
   "metadata": {},
   "source": [
    "#### Save Model and intermediate transformations"
   ]
  },
  {
   "cell_type": "code",
   "execution_count": 7,
   "id": "491c5b1a",
   "metadata": {},
   "outputs": [
    {
     "name": "stdout",
     "output_type": "stream",
     "text": [
      "total 8\r\n",
      "drwxrwxr-x 2 a a 4096 Apr  5 09:11 metadata\r\n",
      "drwxrwxr-x 2 a a 4096 Apr  5 09:11 data\r\n"
     ]
    }
   ],
   "source": [
    "lr_model.write().overwrite().save(\"lr_model\")\n",
    "! ls -lrt lr_model"
   ]
  },
  {
   "cell_type": "code",
   "execution_count": 8,
   "id": "87560913",
   "metadata": {},
   "outputs": [],
   "source": [
    "# prediction\n",
    "# lr_model.transform(df).show()"
   ]
  },
  {
   "cell_type": "code",
   "execution_count": 9,
   "id": "9ebbc87d",
   "metadata": {},
   "outputs": [
    {
     "name": "stdout",
     "output_type": "stream",
     "text": [
      "+-------------------+------------------+--------------------+------------------+\n",
      "|                  x|                 y|         rawFeatures|        prediction|\n",
      "+-------------------+------------------+--------------------+------------------+\n",
      "|                0.0| 3.143243310075543|               [0.0]| 5.427339116827695|\n",
      "|0.02004008016032064|3.9351219271088858|[0.02004008016032...|  5.46573376429572|\n",
      "|0.04008016032064128|5.1160815825151165|[0.04008016032064...| 5.504128411763746|\n",
      "|0.06012024048096192| 4.556468499246165|[0.06012024048096...| 5.542523059231772|\n",
      "|0.08016032064128256|5.8236679062038545|[0.08016032064128...| 5.580917706699797|\n",
      "| 0.1002004008016032| 6.601993866649372|[0.1002004008016032]| 5.619312354167823|\n",
      "|0.12024048096192384| 5.915353255667452|[0.12024048096192...| 5.657707001635848|\n",
      "| 0.1402805611222445| 4.690303476261306|[0.1402805611222445]| 5.696101649103874|\n",
      "|0.16032064128256512|6.6944377144739535|[0.16032064128256...|5.7344962965718995|\n",
      "|0.18036072144288576| 4.875275466981254|[0.18036072144288...| 5.772890944039925|\n",
      "| 0.2004008016032064| 4.550791169404153|[0.2004008016032064]| 5.811285591507951|\n",
      "|0.22044088176352705| 5.561599099942741|[0.22044088176352...| 5.849680238975976|\n",
      "|0.24048096192384769|5.3541273971123315|[0.24048096192384...| 5.888074886444002|\n",
      "| 0.2605210420841683|5.1884012925193534|[0.2605210420841683]|5.9264695339120275|\n",
      "|  0.280561122244489|3.7359781694187753| [0.280561122244489]| 5.964864181380053|\n",
      "| 0.3006012024048096| 6.142590495383834|[0.3006012024048096]| 6.003258828848079|\n",
      "|0.32064128256513025|3.8532991444123104|[0.32064128256513...| 6.041653476316104|\n",
      "| 0.3406813627254509|4.9704226332255885|[0.3406813627254509]| 6.080048123784129|\n",
      "| 0.3607214428857715|  5.98233622436208|[0.3607214428857715]| 6.118442771252155|\n",
      "| 0.3807615230460922| 6.754053972640565|[0.3807615230460922]| 6.156837418720181|\n",
      "+-------------------+------------------+--------------------+------------------+\n",
      "only showing top 20 rows\n",
      "\n"
     ]
    }
   ],
   "source": [
    "prediction_df=lr_model.transform(vectorAssembler.transform(df)).show()"
   ]
  },
  {
   "cell_type": "markdown",
   "id": "53629e0e",
   "metadata": {},
   "source": [
    "### With PipeLine"
   ]
  },
  {
   "cell_type": "code",
   "execution_count": 10,
   "id": "b247dff1",
   "metadata": {},
   "outputs": [],
   "source": [
    "pipeline = Pipeline(stages=[vectorAssembler, lr])"
   ]
  },
  {
   "cell_type": "code",
   "execution_count": 11,
   "id": "9e2ac91b",
   "metadata": {},
   "outputs": [],
   "source": [
    "# Split Data\n",
    "splits = df.randomSplit([0.7, 0.3])\n",
    "train_df,test_df = splits[0],splits[1]"
   ]
  },
  {
   "cell_type": "code",
   "execution_count": 12,
   "id": "58eb3238",
   "metadata": {},
   "outputs": [],
   "source": [
    "# Fit the model\n",
    "pipelineModel = pipeline.fit(train_df)"
   ]
  },
  {
   "cell_type": "code",
   "execution_count": 13,
   "id": "38f1ac4b",
   "metadata": {},
   "outputs": [
    {
     "name": "stdout",
     "output_type": "stream",
     "text": [
      "Coefficients: [1.909621963904685]\n",
      "Intercept: 5.478512612791287\n"
     ]
    }
   ],
   "source": [
    "# Print the coefficients and intercept for linear regression\n",
    "print(\"Coefficients: %s\" % str(pipelineModel.stages[-1].coefficients))\n",
    "print(\"Intercept: %s\" % str(pipelineModel.stages[-1].intercept))"
   ]
  },
  {
   "cell_type": "code",
   "execution_count": 14,
   "id": "d55af998",
   "metadata": {},
   "outputs": [
    {
     "name": "stdout",
     "output_type": "stream",
     "text": [
      "+-----------------+------------------+--------------------+\n",
      "|       prediction|                 y|         rawFeatures|\n",
      "+-----------------+------------------+--------------------+\n",
      "|5.555050567256405|5.1160815825151165|[0.04008016032064...|\n",
      "|5.746395453419199| 4.690303476261306|[0.1402805611222445]|\n",
      "|5.861202385116876| 4.550791169404153|[0.2004008016032064]|\n",
      "|6.090816248512228|3.8532991444123104|[0.32064128256513...|\n",
      "|6.129085225744787|4.9704226332255885|[0.3406813627254509]|\n",
      "+-----------------+------------------+--------------------+\n",
      "only showing top 5 rows\n",
      "\n"
     ]
    }
   ],
   "source": [
    "# prediction\n",
    "lr_predictions = pipelineModel.transform(test_df)\n",
    "lr_predictions.select(\"prediction\",\"y\",\"rawFeatures\").show(5)"
   ]
  },
  {
   "cell_type": "code",
   "execution_count": 15,
   "id": "0d42fe78",
   "metadata": {},
   "outputs": [
    {
     "name": "stdout",
     "output_type": "stream",
     "text": [
      "total 8\r\n",
      "drwxrwxr-x 2 a a 4096 Apr  5 09:11 metadata\r\n",
      "drwxrwxr-x 4 a a 4096 Apr  5 09:11 stages\r\n"
     ]
    }
   ],
   "source": [
    "# Save pipeline\n",
    "pipelineModel.write().overwrite().save(\"lr_pipeline\")\n",
    "! ls -lrt lr_pipeline"
   ]
  },
  {
   "cell_type": "code",
   "execution_count": null,
   "id": "a7da70ae",
   "metadata": {},
   "outputs": [],
   "source": []
  },
  {
   "cell_type": "code",
   "execution_count": null,
   "id": "5c4374e3",
   "metadata": {},
   "outputs": [],
   "source": []
  },
  {
   "cell_type": "code",
   "execution_count": null,
   "id": "ed702ea4",
   "metadata": {},
   "outputs": [],
   "source": []
  }
 ],
 "metadata": {
  "kernelspec": {
   "display_name": "Python 3 (ipykernel)",
   "language": "python",
   "name": "python3"
  },
  "language_info": {
   "codemirror_mode": {
    "name": "ipython",
    "version": 3
   },
   "file_extension": ".py",
   "mimetype": "text/x-python",
   "name": "python",
   "nbconvert_exporter": "python",
   "pygments_lexer": "ipython3",
   "version": "3.7.13"
  }
 },
 "nbformat": 4,
 "nbformat_minor": 5
}
