{
 "cells": [
  {
   "cell_type": "markdown",
   "id": "514826a9",
   "metadata": {},
   "source": [
    "# LSH"
   ]
  },
  {
   "cell_type": "code",
   "execution_count": 1,
   "id": "cb583797",
   "metadata": {},
   "outputs": [
    {
     "name": "stderr",
     "output_type": "stream",
     "text": [
      "22/04/05 09:12:52 WARN Utils: Your hostname, a-Lenovo-Legion-Y530-15ICH resolves to a loopback address: 127.0.1.1; using 192.168.1.4 instead (on interface wlp7s0)\n",
      "22/04/05 09:12:52 WARN Utils: Set SPARK_LOCAL_IP if you need to bind to another address\n",
      "22/04/05 09:12:52 WARN NativeCodeLoader: Unable to load native-hadoop library for your platform... using builtin-java classes where applicable\n",
      "Using Spark's default log4j profile: org/apache/spark/log4j-defaults.properties\n",
      "Setting default log level to \"WARN\".\n",
      "To adjust logging level use sc.setLogLevel(newLevel). For SparkR, use setLogLevel(newLevel).\n",
      "22/04/05 09:12:53 WARN Utils: Service 'SparkUI' could not bind on port 4040. Attempting port 4041.\n",
      "22/04/05 09:12:53 WARN Utils: Service 'SparkUI' could not bind on port 4041. Attempting port 4042.\n",
      "22/04/05 09:12:53 WARN Utils: Service 'SparkUI' could not bind on port 4042. Attempting port 4043.\n",
      "22/04/05 09:12:53 WARN Utils: Service 'SparkUI' could not bind on port 4043. Attempting port 4044.\n"
     ]
    }
   ],
   "source": [
    "from pyspark.sql import SparkSession\n",
    "import pyspark.sql.functions as F\n",
    "from pyspark.sql.types import *\n",
    "from pyspark.mllib.random import RandomRDDs\n",
    "from pyspark.ml.feature import *\n",
    "# Create SparkSession\n",
    "spark = SparkSession.builder.appName(\"asheesh\").getOrCreate()"
   ]
  },
  {
   "cell_type": "code",
   "execution_count": 2,
   "id": "4443cacf",
   "metadata": {},
   "outputs": [
    {
     "name": "stderr",
     "output_type": "stream",
     "text": [
      "                                                                                \r"
     ]
    }
   ],
   "source": [
    "def generate_random_uniform_df(nrows=10, ncols=10,numPartitions=10):\n",
    "    return RandomRDDs.uniformVectorRDD(spark.sparkContext, nrows,ncols,numPartitions).map(lambda a : a.tolist()).toDF()\n",
    "\n",
    "df=generate_random_uniform_df(nrows=1000,ncols=10,numPartitions=100)"
   ]
  },
  {
   "cell_type": "code",
   "execution_count": 3,
   "id": "0b45d445",
   "metadata": {},
   "outputs": [],
   "source": [
    "vectorAssembler = VectorAssembler(inputCols=df.columns, outputCol=\"rawFeatures\")\n",
    "df=vectorAssembler.transform(df)"
   ]
  },
  {
   "cell_type": "code",
   "execution_count": 4,
   "id": "9adb7110",
   "metadata": {},
   "outputs": [],
   "source": [
    "\n",
    "df=df.withColumn(\"id\", F.udf(lambda z: int(z*10000),IntegerType())(df._1))\n"
   ]
  },
  {
   "cell_type": "code",
   "execution_count": 5,
   "id": "2ec0d752",
   "metadata": {},
   "outputs": [
    {
     "name": "stderr",
     "output_type": "stream",
     "text": [
      "[Stage 1:=======================================================>(99 + 1) / 100]"
     ]
    },
    {
     "name": "stdout",
     "output_type": "stream",
     "text": [
      "+----+-----+\n",
      "|  id|count|\n",
      "+----+-----+\n",
      "|8105|    1|\n",
      "|5030|    1|\n",
      "|2622|    1|\n",
      "|5433|    1|\n",
      "|2833|    1|\n",
      "|2096|    1|\n",
      "|3425|    1|\n",
      "|8665|    1|\n",
      "|5100|    1|\n",
      "|2572|    1|\n",
      "|  31|    1|\n",
      "|8257|    1|\n",
      "|1903|    1|\n",
      "|9162|    1|\n",
      "|5071|    1|\n",
      "|8409|    1|\n",
      "|9564|    1|\n",
      "|6773|    1|\n",
      "|1721|    1|\n",
      "|6623|    1|\n",
      "+----+-----+\n",
      "only showing top 20 rows\n",
      "\n"
     ]
    },
    {
     "name": "stderr",
     "output_type": "stream",
     "text": [
      "\r",
      "                                                                                \r"
     ]
    }
   ],
   "source": [
    "df.groupBy(\"id\").count().orderBy(\"count\",ASEC=False).show()"
   ]
  },
  {
   "cell_type": "code",
   "execution_count": 6,
   "id": "3ddf4175",
   "metadata": {},
   "outputs": [
    {
     "name": "stderr",
     "output_type": "stream",
     "text": [
      "[Stage 5:=============================================>         (83 + 12) / 100]"
     ]
    },
    {
     "name": "stdout",
     "output_type": "stream",
     "text": [
      "703    297\n"
     ]
    },
    {
     "name": "stderr",
     "output_type": "stream",
     "text": [
      "\r",
      "                                                                                \r"
     ]
    }
   ],
   "source": [
    "dfA,dfB = df.randomSplit([0.7, 0.3])\n",
    "print(dfA.count(),\"  \",dfB.count())"
   ]
  },
  {
   "cell_type": "markdown",
   "id": "6004ac57",
   "metadata": {},
   "source": [
    "# LSH Algorithm"
   ]
  },
  {
   "cell_type": "code",
   "execution_count": 8,
   "id": "1c56182a",
   "metadata": {},
   "outputs": [],
   "source": [
    "brp = BucketedRandomProjectionLSH(inputCol=\"rawFeatures\", outputCol=\"hashes\", bucketLength=10.0,\n",
    "                                  numHashTables=20)\n",
    "model = brp.fit(dfA)\n"
   ]
  },
  {
   "cell_type": "markdown",
   "id": "ff6d5e07",
   "metadata": {},
   "source": [
    "Compute the locality sensitive hashes for the input rows, then perform approximate similarity join.\n",
    "We could avoid computing hashes by passing in the already-transformed dataset, e.g. `model.approxSimilarityJoin(transformedA, transformedB, 1.5)"
   ]
  },
  {
   "cell_type": "code",
   "execution_count": 9,
   "id": "8226ee7a",
   "metadata": {},
   "outputs": [
    {
     "name": "stdout",
     "output_type": "stream",
     "text": [
      "Approximately joining dfA and dfB on Euclidean distance smaller than 1.5:\n"
     ]
    },
    {
     "name": "stderr",
     "output_type": "stream",
     "text": [
      "22/04/05 09:13:34 WARN Utils: Truncated the string representation of a plan since it was too large. This behavior can be adjusted by setting 'spark.debug.maxToStringFields' in SparkEnv.conf.\n",
      "22/04/05 09:13:35 WARN BLAS: Failed to load implementation from: com.github.fommil.netlib.NativeSystemBLAS\n",
      "22/04/05 09:13:35 WARN BLAS: Failed to load implementation from: com.github.fommil.netlib.NativeRefBLAS\n",
      "[Stage 10:=====================================================>(198 + 2) / 200]"
     ]
    },
    {
     "name": "stdout",
     "output_type": "stream",
     "text": [
      "+----+----+------------------+\n",
      "| idA| idB| EuclideanDistance|\n",
      "+----+----+------------------+\n",
      "|  20|3230| 1.231125742654328|\n",
      "|5376|5915|1.3810017352027988|\n",
      "|9790|1348|1.4874629848527583|\n",
      "|9936|3034|1.2469985021245635|\n",
      "|   2|1480|0.9012163558785872|\n",
      "|   2| 572|1.1656274561665683|\n",
      "|1590|8456|1.4378399705109939|\n",
      "|1590|5815|1.3189332668082971|\n",
      "|1590|6095|0.9902050814768991|\n",
      "|1590|1520| 1.395929073804033|\n",
      "|4401|5458|1.0211808659311876|\n",
      "|4401|7050|   1.3808934209529|\n",
      "|4401| 171| 1.351154051263136|\n",
      "|7577|9322|1.0002963145082087|\n",
      "|7577|8165| 1.205966741548178|\n",
      "|7577|6412|1.3448780830470402|\n",
      "|7965|8493|0.8168498875230408|\n",
      "|9495|5678|0.9919285125735244|\n",
      "|1755|1943|1.1609351593800161|\n",
      "|1755|6184|  0.90314559504887|\n",
      "+----+----+------------------+\n",
      "only showing top 20 rows\n",
      "\n"
     ]
    },
    {
     "name": "stderr",
     "output_type": "stream",
     "text": [
      "\r",
      "                                                                                \r"
     ]
    }
   ],
   "source": [
    "from pyspark.sql.functions import col\n",
    "print(\"Approximately joining dfA and dfB on Euclidean distance smaller than 1.5:\")\n",
    "lsh_df=model.approxSimilarityJoin(dfA, dfB, 1.5, distCol=\"EuclideanDistance\")\n",
    "# lsh_df.show()\n",
    "lsh_df.select(col(\"datasetA.id\").alias(\"idA\"),\n",
    "            col(\"datasetB.id\").alias(\"idB\"),\n",
    "            col(\"EuclideanDistance\")).show()"
   ]
  },
  {
   "cell_type": "code",
   "execution_count": 11,
   "id": "c4a7533f",
   "metadata": {},
   "outputs": [
    {
     "name": "stdout",
     "output_type": "stream",
     "text": [
      "Approximately searching dfA for 2 nearest neighbors of the key:\n"
     ]
    }
   ],
   "source": [
    "print(\"Approximately searching dfA for 2 nearest neighbors of the key:\")\n",
    "# model.approxNearestNeighbors(dfA, dfB, 2).show()"
   ]
  },
  {
   "cell_type": "code",
   "execution_count": null,
   "id": "40d35dac",
   "metadata": {},
   "outputs": [],
   "source": []
  },
  {
   "cell_type": "markdown",
   "id": "78949234",
   "metadata": {},
   "source": [
    "# Cosine Similarity"
   ]
  },
  {
   "attachments": {
    "Untitled%20Diagram.jpg": {
     "image/jpeg": "[encoded data removed]"
    }
   },
   "cell_type": "markdown",
   "id": "c05c5b28",
   "metadata": {},
   "source": [
    "![Untitled%20Diagram.jpg](attachment:Untitled%20Diagram.jpg)"
   ]
  },
  {
   "cell_type": "markdown",
   "id": "459b48be",
   "metadata": {},
   "source": [
    "Similar vecotors:  Cos(0) = 1  ->  euclidean distance ~= 0"
   ]
  },
  {
   "cell_type": "code",
   "execution_count": 12,
   "id": "f846f317",
   "metadata": {},
   "outputs": [],
   "source": [
    "# https://app.diagrams.net/#G1xeVNL85KDCzasR7CkX4XEYFUIRBrdOuy\n",
    "from pyspark.ml.feature import Normalizer\n",
    "from pyspark.ml.linalg import Vectors\n",
    "normalizer = Normalizer(inputCol=\"rawFeatures\", outputCol=\"normFeatures\", p=2.0)\n"
   ]
  },
  {
   "cell_type": "code",
   "execution_count": 13,
   "id": "81da468e",
   "metadata": {},
   "outputs": [],
   "source": [
    "l1_dfA = normalizer.transform(dfA)\n",
    "l2_dfB= normalizer.transform(dfB)"
   ]
  },
  {
   "cell_type": "code",
   "execution_count": 14,
   "id": "ddaef93b",
   "metadata": {},
   "outputs": [
    {
     "name": "stderr",
     "output_type": "stream",
     "text": [
      "[Stage 14:================================================>    (182 + 12) / 200]"
     ]
    },
    {
     "name": "stdout",
     "output_type": "stream",
     "text": [
      "+----+----+-------------------+\n",
      "| idA| idB|  EuclideanDistance|\n",
      "+----+----+-------------------+\n",
      "|8108|8919| 0.4962024245821232|\n",
      "|7030|3921| 0.4795859043310134|\n",
      "|1395|4480| 0.4153188841834258|\n",
      "|2013|1754|0.47113339003381394|\n",
      "|1087|3921| 0.3950212362218264|\n",
      "|9014|8919|0.40060290164912665|\n",
      "|5857|3606|0.36362503626355835|\n",
      "|4863|7204|0.49794676203444943|\n",
      "| 656|1724| 0.4394315006989673|\n",
      "|7945|9463|  0.443790116863545|\n",
      "| 253|1641| 0.4713051797953725|\n",
      "|3387|2802|0.45667650839081636|\n",
      "|6276|7982| 0.4854498691567015|\n",
      "| 889|3375| 0.4929480618107307|\n",
      "|5153|6876| 0.4913911284738265|\n",
      "|3067|1067| 0.4653196439217367|\n",
      "|3067|5218|0.49178854005442024|\n",
      "| 784| 640| 0.4207219832239372|\n",
      "|7130|9046| 0.4823521054415736|\n",
      "|5530|5275|0.45116182412629685|\n",
      "+----+----+-------------------+\n",
      "only showing top 20 rows\n",
      "\n"
     ]
    },
    {
     "name": "stderr",
     "output_type": "stream",
     "text": [
      "\r",
      "                                                                                \r"
     ]
    }
   ],
   "source": [
    "lsh_df=model.approxSimilarityJoin(l1_dfA, l2_dfB, 0.5, distCol=\"EuclideanDistance\")\n",
    "# lsh_df.show()\n",
    "lsh_df.select(col(\"datasetA.id\").alias(\"idA\"),\n",
    "            col(\"datasetB.id\").alias(\"idB\"),\n",
    "            col(\"EuclideanDistance\")).show()"
   ]
  },
  {
   "cell_type": "code",
   "execution_count": null,
   "id": "2390e5f5",
   "metadata": {},
   "outputs": [],
   "source": []
  }
 ],
 "metadata": {
  "kernelspec": {
   "display_name": "Python 3 (ipykernel)",
   "language": "python",
   "name": "python3"
  },
  "language_info": {
   "codemirror_mode": {
    "name": "ipython",
    "version": 3
   },
   "file_extension": ".py",
   "mimetype": "text/x-python",
   "name": "python",
   "nbconvert_exporter": "python",
   "pygments_lexer": "ipython3",
   "version": "3.7.13"
  }
 },
 "nbformat": 4,
 "nbformat_minor": 5
}
