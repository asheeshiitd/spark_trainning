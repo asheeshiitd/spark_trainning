{
 "cells": [
  {
   "cell_type": "code",
   "execution_count": 1,
   "id": "14e20cec",
   "metadata": {},
   "outputs": [],
   "source": [
    "# Data Transformation Problem and solution\n"
   ]
  },
  {
   "cell_type": "code",
   "execution_count": 28,
   "id": "53bb909c",
   "metadata": {},
   "outputs": [],
   "source": [
    "from pyspark.sql import SparkSession\n",
    "import pyspark.sql.functions as F\n",
    "from pyspark.sql.types import *\n",
    "import pandas as pd\n",
    "from datetime import datetime as dt"
   ]
  },
  {
   "cell_type": "code",
   "execution_count": 29,
   "id": "73ccb6be",
   "metadata": {},
   "outputs": [
    {
     "data": {
      "text/html": [
       "<div>\n",
       "<style scoped>\n",
       "    .dataframe tbody tr th:only-of-type {\n",
       "        vertical-align: middle;\n",
       "    }\n",
       "\n",
       "    .dataframe tbody tr th {\n",
       "        vertical-align: top;\n",
       "    }\n",
       "\n",
       "    .dataframe thead th {\n",
       "        text-align: right;\n",
       "    }\n",
       "</style>\n",
       "<table border=\"1\" class=\"dataframe\">\n",
       "  <thead>\n",
       "    <tr style=\"text-align: right;\">\n",
       "      <th></th>\n",
       "      <th>id</th>\n",
       "      <th>date</th>\n",
       "      <th>impr</th>\n",
       "    </tr>\n",
       "  </thead>\n",
       "  <tbody>\n",
       "    <tr>\n",
       "      <th>0</th>\n",
       "      <td>s1,d1</td>\n",
       "      <td>2020-01-01</td>\n",
       "      <td>30</td>\n",
       "    </tr>\n",
       "    <tr>\n",
       "      <th>1</th>\n",
       "      <td>s1,d1</td>\n",
       "      <td>2020-01-03</td>\n",
       "      <td>100</td>\n",
       "    </tr>\n",
       "    <tr>\n",
       "      <th>2</th>\n",
       "      <td>s1,d2</td>\n",
       "      <td>2020-01-01</td>\n",
       "      <td>70</td>\n",
       "    </tr>\n",
       "    <tr>\n",
       "      <th>3</th>\n",
       "      <td>s1,d2</td>\n",
       "      <td>2020-01-03</td>\n",
       "      <td>100</td>\n",
       "    </tr>\n",
       "    <tr>\n",
       "      <th>4</th>\n",
       "      <td>s2,d1</td>\n",
       "      <td>2020-01-01</td>\n",
       "      <td>90</td>\n",
       "    </tr>\n",
       "    <tr>\n",
       "      <th>5</th>\n",
       "      <td>s2,d1</td>\n",
       "      <td>2020-01-02</td>\n",
       "      <td>150</td>\n",
       "    </tr>\n",
       "    <tr>\n",
       "      <th>6</th>\n",
       "      <td>s2,d2</td>\n",
       "      <td>2020-01-01</td>\n",
       "      <td>210</td>\n",
       "    </tr>\n",
       "    <tr>\n",
       "      <th>7</th>\n",
       "      <td>s2,d2</td>\n",
       "      <td>2020-01-02</td>\n",
       "      <td>250</td>\n",
       "    </tr>\n",
       "  </tbody>\n",
       "</table>\n",
       "</div>"
      ],
      "text/plain": [
       "      id        date  impr\n",
       "0  s1,d1  2020-01-01    30\n",
       "1  s1,d1  2020-01-03   100\n",
       "2  s1,d2  2020-01-01    70\n",
       "3  s1,d2  2020-01-03   100\n",
       "4  s2,d1  2020-01-01    90\n",
       "5  s2,d1  2020-01-02   150\n",
       "6  s2,d2  2020-01-01   210\n",
       "7  s2,d2  2020-01-02   250"
      ]
     },
     "execution_count": 29,
     "metadata": {},
     "output_type": "execute_result"
    }
   ],
   "source": [
    "pdf=pd.DataFrame({\"id\":[\"s1,d1\",\"s1,d1\",\"s1,d2\",\"s1,d2\",\"s2,d1\",\"s2,d1\",\"s2,d2\",\"s2,d2\"],\"date\":[\"2020-01-01\",\"2020-01-03\",\"2020-01-01\",\"2020-01-03\",\"2020-01-01\",\"2020-01-02\",\"2020-01-01\",\"2020-01-02\"],\"impr\":[30,100,70,100,90,150,210,250]})\n",
    "pdf"
   ]
  },
  {
   "cell_type": "code",
   "execution_count": 30,
   "id": "e735d218",
   "metadata": {},
   "outputs": [
    {
     "data": {
      "text/plain": [
       "['2020-01-01', '2020-01-02', '2020-01-03']"
      ]
     },
     "execution_count": 30,
     "metadata": {},
     "output_type": "execute_result"
    }
   ],
   "source": [
    "date_list=list(pdf[\"date\"].unique())\n",
    "date_list.sort()\n",
    "date_list"
   ]
  },
  {
   "cell_type": "code",
   "execution_count": 31,
   "id": "d26337bf",
   "metadata": {},
   "outputs": [],
   "source": [
    "# Create Spark Session\n",
    "spark = SparkSession.builder.appName(\"asheesh\").getOrCreate()\n"
   ]
  },
  {
   "cell_type": "code",
   "execution_count": 32,
   "id": "2fb9efbf",
   "metadata": {},
   "outputs": [],
   "source": [
    "# Create Spark DataFrame\n",
    "df=spark.createDataFrame(pdf)"
   ]
  },
  {
   "cell_type": "code",
   "execution_count": 33,
   "id": "0f7198e3",
   "metadata": {},
   "outputs": [
    {
     "name": "stdout",
     "output_type": "stream",
     "text": [
      "+-----+----------+----+-------+\n",
      "|   id|      date|impr|slot_id|\n",
      "+-----+----------+----+-------+\n",
      "|s1,d1|2020-01-01|  30|     s1|\n",
      "|s1,d1|2020-01-03| 100|     s1|\n",
      "|s1,d2|2020-01-01|  70|     s1|\n",
      "|s1,d2|2020-01-03| 100|     s1|\n",
      "|s2,d1|2020-01-01|  90|     s2|\n",
      "|s2,d1|2020-01-02| 150|     s2|\n",
      "|s2,d2|2020-01-01| 210|     s2|\n",
      "|s2,d2|2020-01-02| 250|     s2|\n",
      "+-----+----------+----+-------+\n",
      "\n"
     ]
    }
   ],
   "source": [
    "df=df.withColumn(\"slot_id\", F.udf(lambda x: x.split(\",\")[0], StringType())(df.id))\n",
    "df.show()"
   ]
  },
  {
   "cell_type": "code",
   "execution_count": 34,
   "id": "de146360",
   "metadata": {},
   "outputs": [
    {
     "name": "stdout",
     "output_type": "stream",
     "text": [
      "+-------+----------+----+\n",
      "|slot_id|      date|impr|\n",
      "+-------+----------+----+\n",
      "|     s2|2020-01-01| 300|\n",
      "|     s1|2020-01-01| 100|\n",
      "|     s2|2020-01-02| 400|\n",
      "|     s1|2020-01-03| 200|\n",
      "+-------+----------+----+\n",
      "\n"
     ]
    }
   ],
   "source": [
    "df=df.groupby(\"slot_id\",\"date\").sum(\"impr\").withColumnRenamed(\"sum(impr)\",\"impr\")\n",
    "df.show()"
   ]
  },
  {
   "cell_type": "code",
   "execution_count": 35,
   "id": "1bfc130e",
   "metadata": {},
   "outputs": [
    {
     "name": "stdout",
     "output_type": "stream",
     "text": [
      "+-------+----------+------------------------+\n",
      "|slot_id|impr_list |dates                   |\n",
      "+-------+----------+------------------------+\n",
      "|s2     |[300, 400]|[2020-01-01, 2020-01-02]|\n",
      "|s1     |[100, 200]|[2020-01-01, 2020-01-03]|\n",
      "+-------+----------+------------------------+\n",
      "\n"
     ]
    }
   ],
   "source": [
    "df=df.groupby(\"slot_id\").agg(F.collect_list(\"impr\").alias('impr_list'),F.collect_list(\"date\").alias('dates'))\n",
    "df.show(20,truncate=False)"
   ]
  },
  {
   "cell_type": "code",
   "execution_count": 36,
   "id": "f04313c6",
   "metadata": {},
   "outputs": [],
   "source": [
    "def get_date_wise_sorted_impr(dates,impr_list):\n",
    "    imprs=[]\n",
    "    i=0\n",
    "    for date in date_list:\n",
    "        if date in dates:\n",
    "            imprs.append(impr_list[i])\n",
    "            i=i+1\n",
    "        else:\n",
    "            imprs.append(0)\n",
    "    return imprs"
   ]
  },
  {
   "cell_type": "code",
   "execution_count": 37,
   "id": "9c082af5",
   "metadata": {},
   "outputs": [
    {
     "name": "stdout",
     "output_type": "stream",
     "text": [
      "+-------+------------------------+-------------+\n",
      "|slot_id|dates                   |impr_hist    |\n",
      "+-------+------------------------+-------------+\n",
      "|s2     |[2020-01-01, 2020-01-02]|[300, 400, 0]|\n",
      "|s1     |[2020-01-01, 2020-01-03]|[100, 0, 200]|\n",
      "+-------+------------------------+-------------+\n",
      "\n"
     ]
    }
   ],
   "source": [
    "df=df.withColumn(\"impr_hist\", F.udf(lambda dats,impr_lst: get_date_wise_sorted_impr(dats,impr_lst), StringType())(df.dates,df.impr_list))\n",
    "df=df.select(\"slot_id\",\"dates\",\"impr_hist\")\n",
    "df.show(truncate=False)"
   ]
  },
  {
   "cell_type": "code",
   "execution_count": 38,
   "id": "f3649b80",
   "metadata": {},
   "outputs": [
    {
     "name": "stdout",
     "output_type": "stream",
     "text": [
      "+-------+------------------------+-------------+\n",
      "|slot_id|dates                   |impr_hist    |\n",
      "+-------+------------------------+-------------+\n",
      "|s2     |[2020-01-01, 2020-01-02]|[300, 400, 0]|\n",
      "|s1     |[2020-01-01, 2020-01-03]|[100, 0, 200]|\n",
      "+-------+------------------------+-------------+\n",
      "\n"
     ]
    }
   ],
   "source": [
    "# Convert Date String List into Date list\n",
    "df=df.withColumn(\"dates\", F.udf(lambda dd: [dt.strptime(x, '%Y-%m-%d') for x in dd], ArrayType(DateType()))(df.dates))\n",
    "df.show(truncate=False)"
   ]
  },
  {
   "cell_type": "code",
   "execution_count": 39,
   "id": "f35341b7",
   "metadata": {},
   "outputs": [
    {
     "name": "stdout",
     "output_type": "stream",
     "text": [
      "root\n",
      " |-- slot_id: string (nullable = true)\n",
      " |-- dates: array (nullable = true)\n",
      " |    |-- element: date (containsNull = true)\n",
      " |-- impr_hist: string (nullable = true)\n",
      "\n"
     ]
    }
   ],
   "source": [
    "df.printSchema()"
   ]
  },
  {
   "cell_type": "code",
   "execution_count": 40,
   "id": "c1abf993",
   "metadata": {},
   "outputs": [
    {
     "name": "stdout",
     "output_type": "stream",
     "text": [
      "+-------+------------------------+-------------+---------------------+\n",
      "|slot_id|dates                   |impr_hist    |weekday              |\n",
      "+-------+------------------------+-------------+---------------------+\n",
      "|s2     |[2020-01-01, 2020-01-02]|[300, 400, 0]|[Wednesday, Thursday]|\n",
      "|s1     |[2020-01-01, 2020-01-03]|[100, 0, 200]|[Wednesday, Friday]  |\n",
      "+-------+------------------------+-------------+---------------------+\n",
      "\n"
     ]
    }
   ],
   "source": [
    "# Date to WeekDays\n",
    "df=df.withColumn(\"weekday\", F.udf(lambda dd: [x.strftime('%A') for x in dd], ArrayType(StringType()))(df.dates))\n",
    "df.show(truncate=False)"
   ]
  },
  {
   "cell_type": "code",
   "execution_count": 41,
   "id": "c11ff2fa",
   "metadata": {},
   "outputs": [
    {
     "name": "stdout",
     "output_type": "stream",
     "text": [
      "+-------+---------+\n",
      "|slot_id|col      |\n",
      "+-------+---------+\n",
      "|s2     |Wednesday|\n",
      "|s2     |Thursday |\n",
      "|s1     |Wednesday|\n",
      "|s1     |Friday   |\n",
      "+-------+---------+\n",
      "\n"
     ]
    }
   ],
   "source": [
    "# Slot id weekdays wise \n",
    "df=df.select(df.slot_id,F.explode(df.weekday))\n",
    "df.show(truncate=False)"
   ]
  },
  {
   "cell_type": "code",
   "execution_count": null,
   "id": "3c247c8b",
   "metadata": {},
   "outputs": [],
   "source": []
  }
 ],
 "metadata": {
  "kernelspec": {
   "display_name": "Python 3 (ipykernel)",
   "language": "python",
   "name": "python3"
  },
  "language_info": {
   "codemirror_mode": {
    "name": "ipython",
    "version": 3
   },
   "file_extension": ".py",
   "mimetype": "text/x-python",
   "name": "python",
   "nbconvert_exporter": "python",
   "pygments_lexer": "ipython3",
   "version": "3.7.13"
  }
 },
 "nbformat": 4,
 "nbformat_minor": 5
}
