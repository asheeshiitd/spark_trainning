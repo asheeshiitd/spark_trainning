{
 "cells": [
  {
   "cell_type": "markdown",
   "id": "04dede7b",
   "metadata": {},
   "source": [
    "# GraphFrames"
   ]
  },
  {
   "cell_type": "code",
   "execution_count": 6,
   "id": "7d7a1e86",
   "metadata": {},
   "outputs": [],
   "source": [
    "from pyspark.sql import SparkSession\n",
    "import pyspark.sql.functions as F\n",
    "from pyspark.sql import SQLContext\n",
    "from graphframes import *\n"
   ]
  },
  {
   "cell_type": "code",
   "execution_count": 7,
   "id": "355991ca",
   "metadata": {},
   "outputs": [],
   "source": [
    "# Create context\n",
    "spark = SparkSession.builder.appName(\"asheesh\").getOrCreate()\n",
    "sqlContext = SQLContext(spark.sparkContext)"
   ]
  },
  {
   "cell_type": "code",
   "execution_count": 8,
   "id": "99a3f636",
   "metadata": {},
   "outputs": [
    {
     "name": "stdout",
     "output_type": "stream",
     "text": [
      "+---+-------+---+\n",
      "| id|   name|age|\n",
      "+---+-------+---+\n",
      "|  a|  Alice| 34|\n",
      "|  b|    Bob| 36|\n",
      "|  c|Charlie| 30|\n",
      "+---+-------+---+\n",
      "\n"
     ]
    }
   ],
   "source": [
    "# Create a Vertex DataFrame with unique ID column \"id\"\n",
    "v = sqlContext.createDataFrame([\n",
    "  (\"a\", \"Alice\", 34),\n",
    "  (\"b\", \"Bob\", 36),\n",
    "  (\"c\", \"Charlie\", 30),\n",
    "], [\"id\", \"name\", \"age\"])\n",
    "v.show()"
   ]
  },
  {
   "cell_type": "code",
   "execution_count": 9,
   "id": "c7f3b1a9",
   "metadata": {},
   "outputs": [
    {
     "name": "stdout",
     "output_type": "stream",
     "text": [
      "+---+---+------------+\n",
      "|src|dst|relationship|\n",
      "+---+---+------------+\n",
      "|  a|  b|      friend|\n",
      "|  b|  c|      follow|\n",
      "|  c|  b|      follow|\n",
      "+---+---+------------+\n",
      "\n"
     ]
    }
   ],
   "source": [
    "# Create an Edge DataFrame with \"src\" and \"dst\" columns\n",
    "e = sqlContext.createDataFrame([\n",
    "  (\"a\", \"b\", \"friend\"),\n",
    "  (\"b\", \"c\", \"follow\"),\n",
    "  (\"c\", \"b\", \"follow\"),\n",
    "], [\"src\", \"dst\", \"relationship\"])\n",
    "e.show()"
   ]
  },
  {
   "cell_type": "code",
   "execution_count": 10,
   "id": "208f7c3a",
   "metadata": {},
   "outputs": [],
   "source": [
    "# Create a GraphFrame\n",
    "g = GraphFrame(v, e)"
   ]
  },
  {
   "cell_type": "code",
   "execution_count": 11,
   "id": "630743c5",
   "metadata": {},
   "outputs": [],
   "source": [
    "# dir(g)"
   ]
  },
  {
   "cell_type": "code",
   "execution_count": 12,
   "id": "9997b5e8",
   "metadata": {},
   "outputs": [
    {
     "name": "stdout",
     "output_type": "stream",
     "text": [
      "+---+--------+\n",
      "| id|inDegree|\n",
      "+---+--------+\n",
      "|  c|       1|\n",
      "|  b|       2|\n",
      "+---+--------+\n",
      "\n"
     ]
    }
   ],
   "source": [
    "# Query: Get in-degree of each vertex.\n",
    "g.inDegrees.show()"
   ]
  },
  {
   "cell_type": "code",
   "execution_count": 13,
   "id": "fc23162a",
   "metadata": {},
   "outputs": [
    {
     "data": {
      "text/plain": [
       "2"
      ]
     },
     "execution_count": 13,
     "metadata": {},
     "output_type": "execute_result"
    }
   ],
   "source": [
    "# Query: Count the number of \"follow\" connections in the graph.\n",
    "g.edges.filter(\"relationship = 'follow'\").count()"
   ]
  },
  {
   "cell_type": "code",
   "execution_count": 14,
   "id": "00b2570d",
   "metadata": {},
   "outputs": [
    {
     "name": "stdout",
     "output_type": "stream",
     "text": [
      "+--------+\n",
      "|min(age)|\n",
      "+--------+\n",
      "|      30|\n",
      "+--------+\n",
      "\n"
     ]
    }
   ],
   "source": [
    "# Find the youngest user's age in the graph.\n",
    "g.vertices.groupBy().min(\"age\").show()"
   ]
  },
  {
   "cell_type": "markdown",
   "id": "e1390c71",
   "metadata": {},
   "source": [
    "# Motif finding"
   ]
  },
  {
   "cell_type": "markdown",
   "id": "db3f97a2",
   "metadata": {},
   "source": [
    "Motif finding refers to searching for structural patterns in a graph."
   ]
  },
  {
   "cell_type": "code",
   "execution_count": 15,
   "id": "574491b7",
   "metadata": {},
   "outputs": [],
   "source": [
    "from graphframes.examples import Graphs\n",
    "g = Graphs(sqlContext).friends()  # Get example graph"
   ]
  },
  {
   "cell_type": "code",
   "execution_count": 16,
   "id": "dc2202a1",
   "metadata": {},
   "outputs": [
    {
     "name": "stdout",
     "output_type": "stream",
     "text": [
      "+----------------+--------------+----------------+--------------+\n",
      "|               a|             e|               b|            e2|\n",
      "+----------------+--------------+----------------+--------------+\n",
      "|[c, Charlie, 30]|[c, b, follow]|    [b, Bob, 36]|[b, c, follow]|\n",
      "|    [b, Bob, 36]|[b, c, follow]|[c, Charlie, 30]|[c, b, follow]|\n",
      "+----------------+--------------+----------------+--------------+\n",
      "\n"
     ]
    }
   ],
   "source": [
    "# Search for pairs of vertices with edges in both directions between them.\n",
    "motifs = g.find(\"(a)-[e]->(b); (b)-[e2]->(a)\")\n",
    "motifs.show()"
   ]
  },
  {
   "cell_type": "code",
   "execution_count": 17,
   "id": "e37ac8bb",
   "metadata": {},
   "outputs": [
    {
     "name": "stdout",
     "output_type": "stream",
     "text": [
      "+----------------+--------------+------------+--------------+\n",
      "|               a|             e|           b|            e2|\n",
      "+----------------+--------------+------------+--------------+\n",
      "|[c, Charlie, 30]|[c, b, follow]|[b, Bob, 36]|[b, c, follow]|\n",
      "+----------------+--------------+------------+--------------+\n",
      "\n"
     ]
    }
   ],
   "source": [
    "# More complex queries can be expressed by applying filters.\n",
    "motifs.filter(\"b.age > 30\").show()"
   ]
  },
  {
   "cell_type": "markdown",
   "id": "2a11470b",
   "metadata": {},
   "source": [
    "# Subgraphs"
   ]
  },
  {
   "cell_type": "code",
   "execution_count": 18,
   "id": "4665cb5e",
   "metadata": {},
   "outputs": [
    {
     "name": "stdout",
     "output_type": "stream",
     "text": [
      "+---+-----+---+\n",
      "| id| name|age|\n",
      "+---+-----+---+\n",
      "|  b|  Bob| 36|\n",
      "|  a|Alice| 34|\n",
      "+---+-----+---+\n",
      "\n"
     ]
    }
   ],
   "source": [
    "# Select subgraph of users older than 30, and relationships of type \"friend\".\n",
    "# Drop isolated vertices (users) which are not contained in any edges (relationships).\n",
    "g1 = g.filterVertices(\"age > 30\").filterEdges(\"relationship = 'friend'\").dropIsolatedVertices()\n",
    "g1.vertices.show()"
   ]
  },
  {
   "cell_type": "markdown",
   "id": "1f116975",
   "metadata": {},
   "source": [
    "# Graph Algorithms"
   ]
  },
  {
   "cell_type": "markdown",
   "id": "01cb3ccd",
   "metadata": {},
   "source": [
    "# Breadth-first search (BFS)"
   ]
  },
  {
   "cell_type": "code",
   "execution_count": 19,
   "id": "616c9de0",
   "metadata": {},
   "outputs": [
    {
     "name": "stdout",
     "output_type": "stream",
     "text": [
      "+---------------+--------------+--------------+\n",
      "|           from|            e0|            to|\n",
      "+---------------+--------------+--------------+\n",
      "|[e, Esther, 32]|[e, d, friend]|[d, David, 29]|\n",
      "+---------------+--------------+--------------+\n",
      "\n"
     ]
    }
   ],
   "source": [
    "# Search from \"Esther\" for users of age < 32.\n",
    "paths = g.bfs(\"name = 'Esther'\", \"age < 32\")\n",
    "paths.show()\n"
   ]
  },
  {
   "cell_type": "code",
   "execution_count": 20,
   "id": "d3431b79",
   "metadata": {},
   "outputs": [
    {
     "name": "stderr",
     "output_type": "stream",
     "text": [
      "                                                                                \r"
     ]
    },
    {
     "name": "stdout",
     "output_type": "stream",
     "text": [
      "+---------------+--------------+--------------+--------------+----------------+\n",
      "|           from|            e0|            v1|            e1|              to|\n",
      "+---------------+--------------+--------------+--------------+----------------+\n",
      "|[e, Esther, 32]|[e, f, follow]|[f, Fanny, 36]|[f, c, follow]|[c, Charlie, 30]|\n",
      "+---------------+--------------+--------------+--------------+----------------+\n",
      "\n"
     ]
    }
   ],
   "source": [
    "# Specify edge filters or max path lengths.\n",
    "g.bfs(\"name = 'Esther'\", \"age < 32\",edgeFilter=\"relationship != 'friend'\", maxPathLength=3).show()\n"
   ]
  },
  {
   "cell_type": "markdown",
   "id": "9609dae9",
   "metadata": {},
   "source": [
    "# Label Propagation Algorithm (LPA)"
   ]
  },
  {
   "cell_type": "markdown",
   "id": "4a710a47",
   "metadata": {},
   "source": [
    "LPA is a standard community detection algorithm for graphs"
   ]
  },
  {
   "cell_type": "code",
   "execution_count": 22,
   "id": "7a56b9b7",
   "metadata": {},
   "outputs": [
    {
     "name": "stderr",
     "output_type": "stream",
     "text": [
      "                                                                                \r"
     ]
    },
    {
     "name": "stdout",
     "output_type": "stream",
     "text": [
      "+---+-------------+\n",
      "| id|        label|\n",
      "+---+-------------+\n",
      "|  b|1047972020224|\n",
      "|  e| 412316860416|\n",
      "|  a|1382979469312|\n",
      "|  f| 670014898176|\n",
      "|  d| 670014898176|\n",
      "|  c|1382979469312|\n",
      "+---+-------------+\n",
      "\n"
     ]
    }
   ],
   "source": [
    "result = g.labelPropagation(maxIter=5)\n",
    "result.select(\"id\", \"label\").show()"
   ]
  },
  {
   "cell_type": "markdown",
   "id": "b0799201",
   "metadata": {},
   "source": [
    "# PageRank"
   ]
  },
  {
   "cell_type": "code",
   "execution_count": null,
   "id": "8d349119",
   "metadata": {},
   "outputs": [],
   "source": [
    "# Run PageRank until convergence to tolerance \"tol\".\n",
    "results = g.pageRank(resetProbability=0.15, tol=0.01)"
   ]
  },
  {
   "cell_type": "code",
   "execution_count": null,
   "id": "6e181f03",
   "metadata": {},
   "outputs": [],
   "source": [
    "# Note that the displayed pagerank may be truncated, e.g., missing the E notation.\n",
    "results.vertices.select(\"id\", \"pagerank\").show()"
   ]
  },
  {
   "cell_type": "code",
   "execution_count": null,
   "id": "41f74af0",
   "metadata": {},
   "outputs": [],
   "source": [
    "results.edges.select(\"src\", \"dst\", \"weight\").show()"
   ]
  },
  {
   "cell_type": "code",
   "execution_count": null,
   "id": "a3c7a282",
   "metadata": {},
   "outputs": [],
   "source": [
    "# Run PageRank for a fixed number of iterations.\n",
    "results2 = g.pageRank(resetProbability=0.15, maxIter=10)"
   ]
  },
  {
   "cell_type": "code",
   "execution_count": null,
   "id": "0b1d64e8",
   "metadata": {},
   "outputs": [],
   "source": [
    "# Run PageRank personalized for vertex \"a\"\n",
    "results3 = g.pageRank(resetProbability=0.15, maxIter=10, sourceId=\"a\")"
   ]
  },
  {
   "cell_type": "code",
   "execution_count": null,
   "id": "f66e484e",
   "metadata": {},
   "outputs": [],
   "source": [
    "# Run PageRank personalized for vertex [\"a\", \"b\", \"c\", \"d\"] in parallel\n",
    "results4 = g.parallelPersonalizedPageRank(resetProbability=0.15, sourceIds=[\"a\", \"b\", \"c\", \"d\"], maxIter=10)"
   ]
  },
  {
   "cell_type": "markdown",
   "id": "70de7f6c",
   "metadata": {},
   "source": [
    "# Shortest paths"
   ]
  },
  {
   "cell_type": "code",
   "execution_count": null,
   "id": "72b44cfe",
   "metadata": {},
   "outputs": [],
   "source": [
    "results = g.shortestPaths(landmarks=[\"a\", \"d\"])\n",
    "results.select(\"id\", \"distances\").show()"
   ]
  },
  {
   "cell_type": "markdown",
   "id": "e30026f8",
   "metadata": {},
   "source": [
    "# Triangle count"
   ]
  },
  {
   "cell_type": "code",
   "execution_count": null,
   "id": "fd718098",
   "metadata": {},
   "outputs": [],
   "source": [
    "results = g.triangleCount()\n",
    "results.select(\"id\", \"count\").show()"
   ]
  },
  {
   "cell_type": "markdown",
   "id": "b9b2f01e",
   "metadata": {},
   "source": [
    "# Saving and loading GraphFrames"
   ]
  },
  {
   "cell_type": "code",
   "execution_count": null,
   "id": "9f2e3da2",
   "metadata": {},
   "outputs": [],
   "source": [
    "# Save vertices and edges as Parquet to some location.\n",
    "g.vertices.write.parquet(\"hdfs://myLocation/vertices\")\n",
    "g.edges.write.parquet(\"hdfs://myLocation/edges\")\n"
   ]
  },
  {
   "cell_type": "code",
   "execution_count": null,
   "id": "b36e7a5d",
   "metadata": {},
   "outputs": [],
   "source": [
    "# Load the vertices and edges back.\n",
    "sameV = sqlContext.read.parquet(\"hdfs://myLocation/vertices\")\n",
    "sameE = sqlContext.read.parquet(\"hdfs://myLocation/edges\")"
   ]
  },
  {
   "cell_type": "code",
   "execution_count": null,
   "id": "bbf41c45",
   "metadata": {},
   "outputs": [],
   "source": [
    "# Create an identical GraphFrame.\n",
    "sameG = GraphFrame(sameV, sameE)"
   ]
  },
  {
   "cell_type": "code",
   "execution_count": null,
   "id": "c0f743aa",
   "metadata": {},
   "outputs": [],
   "source": []
  },
  {
   "cell_type": "code",
   "execution_count": null,
   "id": "5d0cdfe5",
   "metadata": {},
   "outputs": [],
   "source": []
  },
  {
   "cell_type": "code",
   "execution_count": null,
   "id": "86a009db",
   "metadata": {},
   "outputs": [],
   "source": []
  },
  {
   "cell_type": "code",
   "execution_count": null,
   "id": "57070be4",
   "metadata": {},
   "outputs": [],
   "source": []
  },
  {
   "cell_type": "code",
   "execution_count": null,
   "id": "6958f74f",
   "metadata": {},
   "outputs": [],
   "source": []
  },
  {
   "cell_type": "code",
   "execution_count": null,
   "id": "a4c8a438",
   "metadata": {},
   "outputs": [],
   "source": []
  },
  {
   "cell_type": "code",
   "execution_count": null,
   "id": "d9d33d8d",
   "metadata": {},
   "outputs": [],
   "source": []
  },
  {
   "cell_type": "code",
   "execution_count": null,
   "id": "1fd455b8",
   "metadata": {},
   "outputs": [],
   "source": []
  },
  {
   "cell_type": "code",
   "execution_count": null,
   "id": "5a3e53e8",
   "metadata": {},
   "outputs": [],
   "source": []
  },
  {
   "cell_type": "code",
   "execution_count": null,
   "id": "6ab31898",
   "metadata": {},
   "outputs": [],
   "source": []
  },
  {
   "cell_type": "code",
   "execution_count": null,
   "id": "26bbda91",
   "metadata": {},
   "outputs": [],
   "source": []
  },
  {
   "cell_type": "code",
   "execution_count": null,
   "id": "58195ff3",
   "metadata": {},
   "outputs": [],
   "source": []
  },
  {
   "cell_type": "code",
   "execution_count": null,
   "id": "6001e376",
   "metadata": {},
   "outputs": [],
   "source": []
  },
  {
   "cell_type": "code",
   "execution_count": null,
   "id": "cc58e87b",
   "metadata": {},
   "outputs": [],
   "source": []
  },
  {
   "cell_type": "code",
   "execution_count": null,
   "id": "543a587e",
   "metadata": {},
   "outputs": [],
   "source": []
  },
  {
   "cell_type": "code",
   "execution_count": null,
   "id": "e72eccc1",
   "metadata": {},
   "outputs": [],
   "source": []
  },
  {
   "cell_type": "code",
   "execution_count": null,
   "id": "a4852a60",
   "metadata": {},
   "outputs": [],
   "source": []
  },
  {
   "cell_type": "code",
   "execution_count": null,
   "id": "6fbc0eea",
   "metadata": {},
   "outputs": [],
   "source": []
  },
  {
   "cell_type": "code",
   "execution_count": null,
   "id": "bac02a94",
   "metadata": {},
   "outputs": [],
   "source": []
  }
 ],
 "metadata": {
  "kernelspec": {
   "display_name": "Python 3 (ipykernel)",
   "language": "python",
   "name": "python3"
  },
  "language_info": {
   "codemirror_mode": {
    "name": "ipython",
    "version": 3
   },
   "file_extension": ".py",
   "mimetype": "text/x-python",
   "name": "python",
   "nbconvert_exporter": "python",
   "pygments_lexer": "ipython3",
   "version": "3.7.13"
  }
 },
 "nbformat": 4,
 "nbformat_minor": 5
}
