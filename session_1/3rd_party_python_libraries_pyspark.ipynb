{
 "cells": [
  {
   "cell_type": "code",
   "execution_count": 1,
   "id": "eb09a87e",
   "metadata": {},
   "outputs": [],
   "source": [
    "from pyspark.sql import SparkSession\n",
    "import pyspark.sql.functions as F\n",
    "from pyspark.sql.types import *\n",
    "from pyspark.mllib.random import RandomRDDs\n",
    "import statistics as st"
   ]
  },
  {
   "cell_type": "code",
   "execution_count": 2,
   "id": "8bded4b8",
   "metadata": {},
   "outputs": [
    {
     "name": "stderr",
     "output_type": "stream",
     "text": [
      "22/03/24 13:18:33 WARN Utils: Your hostname, a-Lenovo-Legion-Y530-15ICH resolves to a loopback address: 127.0.1.1; using 192.168.1.12 instead (on interface wlp7s0)\n",
      "22/03/24 13:18:33 WARN Utils: Set SPARK_LOCAL_IP if you need to bind to another address\n",
      "22/03/24 13:18:34 WARN NativeCodeLoader: Unable to load native-hadoop library for your platform... using builtin-java classes where applicable\n",
      "Using Spark's default log4j profile: org/apache/spark/log4j-defaults.properties\n",
      "Setting default log level to \"WARN\".\n",
      "To adjust logging level use sc.setLogLevel(newLevel). For SparkR, use setLogLevel(newLevel).\n",
      "22/03/24 13:18:34 WARN Utils: Service 'SparkUI' could not bind on port 4040. Attempting port 4041.\n"
     ]
    }
   ],
   "source": [
    "# Create SparkSession\n",
    "spark = SparkSession.builder.appName(\"asheesh\").getOrCreate()"
   ]
  },
  {
   "cell_type": "code",
   "execution_count": 3,
   "id": "b2ee3ac6",
   "metadata": {},
   "outputs": [],
   "source": [
    "# Transformation\n",
    "def generate_random_uniform_df(nrows=10, ncols=10,numPartitions=10):\n",
    "    return RandomRDDs.uniformVectorRDD(spark.sparkContext, nrows,ncols,numPartitions).map(lambda a : a.tolist()).toDF()"
   ]
  },
  {
   "cell_type": "code",
   "execution_count": 4,
   "id": "81da944c",
   "metadata": {},
   "outputs": [
    {
     "name": "stderr",
     "output_type": "stream",
     "text": [
      "                                                                                \r"
     ]
    }
   ],
   "source": [
    "# Randomly generated data \n",
    "df=generate_random_uniform_df(nrows=100000000,ncols=10,numPartitions=100)\n",
    "df=df.withColumn(\"user_vector\", F.udf(lambda *z: [i for i in z],ArrayType(DoubleType()))(*df.columns)).select(\"user_vector\")"
   ]
  },
  {
   "cell_type": "code",
   "execution_count": 9,
   "id": "363d6104",
   "metadata": {},
   "outputs": [],
   "source": [
    "# Uses of 3rd party libraries \n",
    "df=df.withColumn(\"mean\", F.udf(lambda z: st.mean(z),FloatType())(df.user_vector))\n",
    "df=df.withColumn(\"std\", F.udf(lambda z: st.stdev(z),FloatType())(df.user_vector))"
   ]
  },
  {
   "cell_type": "code",
   "execution_count": 10,
   "id": "e8ec498c",
   "metadata": {},
   "outputs": [
    {
     "name": "stdout",
     "output_type": "stream",
     "text": [
      "+--------------------+----------+----------+\n",
      "|         user_vector|      mean|       std|\n",
      "+--------------------+----------+----------+\n",
      "|[0.87697726541112...| 0.5417995|  0.306426|\n",
      "|[0.53055591205546...|  0.524963|0.24418919|\n",
      "|[0.65301240039994...| 0.6427852|0.21293461|\n",
      "|[0.86995666899085...|0.49199462|0.30135396|\n",
      "|[0.38864223088077...|0.44524068|0.26834714|\n",
      "|[0.28606963312762...|0.38847983|0.21260986|\n",
      "|[0.67647010595842...|0.34423324| 0.2218186|\n",
      "|[0.27338172584511...|0.39749137| 0.2933082|\n",
      "|[0.66828749017683...|0.53543127|0.35441568|\n",
      "|[0.62790165180745...|0.53084034|0.27913564|\n",
      "|[0.07611015118351...|0.38995948| 0.3176411|\n",
      "|[0.48345168351790...| 0.5331065|0.27594638|\n",
      "|[0.11412816515693...|   0.50413| 0.3267447|\n",
      "|[0.66149339392819...|0.50039935|0.21922049|\n",
      "|[0.77972261075131...| 0.5958385|0.29511285|\n",
      "|[0.20912191160759...| 0.5412565|0.31749663|\n",
      "|[0.79710124484913...| 0.5459609| 0.2381312|\n",
      "|[0.81542616377014...| 0.5713523|0.35562277|\n",
      "|[0.54037470017968...| 0.4777771| 0.2410556|\n",
      "|[0.10117329258899...|0.38452175| 0.3291266|\n",
      "+--------------------+----------+----------+\n",
      "only showing top 20 rows\n",
      "\n"
     ]
    }
   ],
   "source": [
    "df.show()"
   ]
  },
  {
   "cell_type": "code",
   "execution_count": 11,
   "id": "4a4484d1",
   "metadata": {},
   "outputs": [
    {
     "name": "stdout",
     "output_type": "stream",
     "text": [
      "root\n",
      " |-- user_vector: array (nullable = true)\n",
      " |    |-- element: double (containsNull = true)\n",
      " |-- mean: float (nullable = true)\n",
      " |-- std: float (nullable = true)\n",
      "\n"
     ]
    }
   ],
   "source": [
    "df.printSchema()"
   ]
  },
  {
   "cell_type": "code",
   "execution_count": null,
   "id": "01c2c5e2",
   "metadata": {},
   "outputs": [],
   "source": []
  }
 ],
 "metadata": {
  "kernelspec": {
   "display_name": "Python 3 (ipykernel)",
   "language": "python",
   "name": "python3"
  },
  "language_info": {
   "codemirror_mode": {
    "name": "ipython",
    "version": 3
   },
   "file_extension": ".py",
   "mimetype": "text/x-python",
   "name": "python",
   "nbconvert_exporter": "python",
   "pygments_lexer": "ipython3",
   "version": "3.7.13"
  }
 },
 "nbformat": 4,
 "nbformat_minor": 5
}
