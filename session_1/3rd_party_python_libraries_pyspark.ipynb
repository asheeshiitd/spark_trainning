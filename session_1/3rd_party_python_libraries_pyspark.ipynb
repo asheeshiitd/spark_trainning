{
 "cells": [
  {
   "cell_type": "code",
   "execution_count": 7,
   "id": "eb09a87e",
   "metadata": {},
   "outputs": [],
   "source": [
    "from pyspark.sql import SparkSession\n",
    "import pyspark.sql.functions as F\n",
    "from pyspark.sql.types import *\n",
    "from pyspark.mllib.random import RandomRDDs\n",
    "import statistics as st"
   ]
  },
  {
   "cell_type": "code",
   "execution_count": 8,
   "id": "8bded4b8",
   "metadata": {},
   "outputs": [],
   "source": [
    "# Create SparkSession\n",
    "spark = SparkSession.builder.appName(\"asheesh\").getOrCreate()"
   ]
  },
  {
   "cell_type": "code",
   "execution_count": 9,
   "id": "b2ee3ac6",
   "metadata": {},
   "outputs": [],
   "source": [
    "# Transformation\n",
    "def generate_random_uniform_df(nrows=10, ncols=10,numPartitions=10):\n",
    "    return RandomRDDs.uniformVectorRDD(spark.sparkContext, nrows,ncols,numPartitions).map(lambda a : a.tolist()).toDF()"
   ]
  },
  {
   "cell_type": "code",
   "execution_count": 10,
   "id": "81da944c",
   "metadata": {},
   "outputs": [],
   "source": [
    "# Randomly generated data \n",
    "df=generate_random_uniform_df(nrows=100000000,ncols=10,numPartitions=100)\n",
    "df=df.withColumn(\"user_vector\", F.udf(lambda *z: [i for i in z],ArrayType(DoubleType()))(*df.columns)).select(\"user_vector\")"
   ]
  },
  {
   "cell_type": "code",
   "execution_count": 11,
   "id": "363d6104",
   "metadata": {},
   "outputs": [],
   "source": [
    "# Uses of 3rd party libraries \n",
    "df=df.withColumn(\"mean\", F.udf(lambda z: st.mean(z),FloatType())(df.user_vector))\n",
    "df=df.withColumn(\"std\", F.udf(lambda z: st.stdev(z),StringType())(df.user_vector))"
   ]
  },
  {
   "cell_type": "code",
   "execution_count": 12,
   "id": "e8ec498c",
   "metadata": {},
   "outputs": [
    {
     "name": "stdout",
     "output_type": "stream",
     "text": [
      "+--------------------+----------+-------------------+\n",
      "|         user_vector|      mean|                std|\n",
      "+--------------------+----------+-------------------+\n",
      "|[0.80771865681046...| 0.3975067|0.33491305963470247|\n",
      "|[0.30999819362086...| 0.6077904|0.18851962665318753|\n",
      "|[0.47023341826655...|0.43071818|0.28732342407405487|\n",
      "|[0.48097773035766...|0.41913483|0.25313982796896745|\n",
      "|[0.46496801636907...|0.46898815|0.19919985308275506|\n",
      "|[0.18146247387723...| 0.4582825|0.25962443638732036|\n",
      "|[0.29051295649544...| 0.3583454|0.30566394450039547|\n",
      "|[0.17906831402652...|0.36140752| 0.2099545752215951|\n",
      "|[0.81249056394420...|  0.576357| 0.3341008854738534|\n",
      "|[0.96369922724022...|0.48720515| 0.3091678064394688|\n",
      "|[0.50198831743355...|0.47357145|0.27997984557770733|\n",
      "|[0.95486659360328...| 0.6297721| 0.2774403678396997|\n",
      "|[0.61135570314945...| 0.4307868| 0.2618916930786211|\n",
      "|[0.57564174041053...|0.56929123| 0.3672944848824362|\n",
      "|[0.33438269025909...|0.38126773|0.32013764162832165|\n",
      "|[0.98431576975222...|0.49513254|0.37662867753255214|\n",
      "|[0.98306127652270...| 0.6484018| 0.3230852772774579|\n",
      "|[0.04082915549168...|0.43313783| 0.3295337810947134|\n",
      "|[0.71967687793579...|0.64778787|0.19154962867588096|\n",
      "|[0.90709686547768...|  0.500133|0.29217653446051045|\n",
      "+--------------------+----------+-------------------+\n",
      "only showing top 20 rows\n",
      "\n"
     ]
    }
   ],
   "source": [
    "df.show()"
   ]
  },
  {
   "cell_type": "code",
   "execution_count": null,
   "id": "4a4484d1",
   "metadata": {},
   "outputs": [],
   "source": []
  }
 ],
 "metadata": {
  "kernelspec": {
   "display_name": "Python 3 (ipykernel)",
   "language": "python",
   "name": "python3"
  },
  "language_info": {
   "codemirror_mode": {
    "name": "ipython",
    "version": 3
   },
   "file_extension": ".py",
   "mimetype": "text/x-python",
   "name": "python",
   "nbconvert_exporter": "python",
   "pygments_lexer": "ipython3",
   "version": "3.7.13"
  }
 },
 "nbformat": 4,
 "nbformat_minor": 5
}
