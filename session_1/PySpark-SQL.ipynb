{
 "cells": [
  {
   "cell_type": "markdown",
   "id": "b93e2715",
   "metadata": {},
   "source": [
    "# PySpark-SQL"
   ]
  },
  {
   "cell_type": "code",
   "execution_count": 1,
   "id": "57fa5676",
   "metadata": {},
   "outputs": [
    {
     "name": "stderr",
     "output_type": "stream",
     "text": [
      "22/03/24 13:34:28 WARN Utils: Your hostname, a-Lenovo-Legion-Y530-15ICH resolves to a loopback address: 127.0.1.1; using 192.168.1.12 instead (on interface wlp7s0)\n",
      "22/03/24 13:34:28 WARN Utils: Set SPARK_LOCAL_IP if you need to bind to another address\n",
      "22/03/24 13:34:28 WARN NativeCodeLoader: Unable to load native-hadoop library for your platform... using builtin-java classes where applicable\n",
      "Using Spark's default log4j profile: org/apache/spark/log4j-defaults.properties\n",
      "Setting default log level to \"WARN\".\n",
      "To adjust logging level use sc.setLogLevel(newLevel). For SparkR, use setLogLevel(newLevel).\n",
      "22/03/24 13:34:29 WARN Utils: Service 'SparkUI' could not bind on port 4040. Attempting port 4041.\n",
      "22/03/24 13:34:29 WARN Utils: Service 'SparkUI' could not bind on port 4041. Attempting port 4042.\n",
      "22/03/24 13:34:29 WARN Utils: Service 'SparkUI' could not bind on port 4042. Attempting port 4043.\n"
     ]
    }
   ],
   "source": [
    "from pyspark.sql import SparkSession\n",
    "\n",
    "# 1 Starting Point: SparkSession\n",
    "spark = SparkSession.builder.appName(\"asheesh\").getOrCreate()"
   ]
  },
  {
   "cell_type": "code",
   "execution_count": 3,
   "id": "2f3a3559",
   "metadata": {},
   "outputs": [
    {
     "name": "stdout",
     "output_type": "stream",
     "text": [
      "+---+-------+\n",
      "|age|   name|\n",
      "+---+-------+\n",
      "| 30|Michael|\n",
      "| 30|   Andy|\n",
      "| 19| Justin|\n",
      "| 20|   Andy|\n",
      "| 50| Justin|\n",
      "| 50|     a1|\n",
      "| 50|     a2|\n",
      "+---+-------+\n",
      "\n"
     ]
    }
   ],
   "source": [
    "# 2. Creating DataFrames\n",
    "# read Json data files\n",
    "df = spark.read.json(\"/media/a/StudioSpaceByMe/workspace/toko/src/spark_training/*.json\")\n",
    "\n",
    "# to print few rows of dataframe\n",
    "df.show()"
   ]
  },
  {
   "cell_type": "code",
   "execution_count": 3,
   "id": "9c9293cf",
   "metadata": {},
   "outputs": [],
   "source": [
    "# read CSV data files\n",
    "df = spark.read.csv(\"/media/a/StudioSpaceByMe/workspace/toko/src/spark_training/people*.csv\",header=True)"
   ]
  },
  {
   "cell_type": "code",
   "execution_count": 4,
   "id": "c171d898",
   "metadata": {},
   "outputs": [
    {
     "name": "stdout",
     "output_type": "stream",
     "text": [
      "root\n",
      " |-- age: long (nullable = true)\n",
      " |-- name: string (nullable = true)\n",
      "\n"
     ]
    }
   ],
   "source": [
    "# 3. Dataset Operations\n",
    "# spark, df are from the previous example\n",
    "# Print the schema in a tree format\n",
    "df.printSchema()"
   ]
  },
  {
   "cell_type": "code",
   "execution_count": 14,
   "id": "e9ee8b74",
   "metadata": {},
   "outputs": [
    {
     "name": "stdout",
     "output_type": "stream",
     "text": [
      "+-------+\n",
      "|   name|\n",
      "+-------+\n",
      "|Michael|\n",
      "|   Andy|\n",
      "| Justin|\n",
      "|   Andy|\n",
      "| Justin|\n",
      "|     a1|\n",
      "|     a2|\n",
      "+-------+\n",
      "\n"
     ]
    }
   ],
   "source": [
    "# Select only the \"name\" column\n",
    "df.select(\"name\").show()"
   ]
  },
  {
   "cell_type": "code",
   "execution_count": 15,
   "id": "d2e0d5b2",
   "metadata": {},
   "outputs": [
    {
     "name": "stdout",
     "output_type": "stream",
     "text": [
      "+-------+---------+\n",
      "|   name|(age + 1)|\n",
      "+-------+---------+\n",
      "|Michael|       31|\n",
      "|   Andy|       31|\n",
      "| Justin|       20|\n",
      "|   Andy|       21|\n",
      "| Justin|       51|\n",
      "|     a1|       51|\n",
      "|     a2|       51|\n",
      "+-------+---------+\n",
      "\n"
     ]
    }
   ],
   "source": [
    "# Select everybody, but increment the age by 1\n",
    "df.select(df['name'], df['age'] + 1).show()"
   ]
  },
  {
   "cell_type": "code",
   "execution_count": 16,
   "id": "feb3a70f",
   "metadata": {},
   "outputs": [
    {
     "name": "stdout",
     "output_type": "stream",
     "text": [
      "+---+-------+\n",
      "|age|   name|\n",
      "+---+-------+\n",
      "| 30|Michael|\n",
      "| 30|   Andy|\n",
      "| 50| Justin|\n",
      "| 50|     a1|\n",
      "| 50|     a2|\n",
      "+---+-------+\n",
      "\n"
     ]
    }
   ],
   "source": [
    "# Select people older than 21 using filter\n",
    "df.filter(df['age'] > 21).show()"
   ]
  },
  {
   "cell_type": "code",
   "execution_count": 17,
   "id": "e5465fca",
   "metadata": {},
   "outputs": [
    {
     "name": "stdout",
     "output_type": "stream",
     "text": [
      "+---+-------+\n",
      "|age|   name|\n",
      "+---+-------+\n",
      "| 30|Michael|\n",
      "| 30|   Andy|\n",
      "| 50| Justin|\n",
      "| 50|     a1|\n",
      "| 50|     a2|\n",
      "+---+-------+\n",
      "\n"
     ]
    }
   ],
   "source": [
    "# Select people older than 21 using where \n",
    "df.select(\"*\").where(\"age>20\").show()"
   ]
  },
  {
   "cell_type": "code",
   "execution_count": 18,
   "id": "dab04d24",
   "metadata": {},
   "outputs": [
    {
     "name": "stdout",
     "output_type": "stream",
     "text": [
      "+-------+-----+\n",
      "|   name|count|\n",
      "+-------+-----+\n",
      "|Michael|    1|\n",
      "|     a2|    1|\n",
      "|     a1|    1|\n",
      "|   Andy|    2|\n",
      "| Justin|    2|\n",
      "+-------+-----+\n",
      "\n"
     ]
    }
   ],
   "source": [
    "# Count people by name\n",
    "df.groupBy(\"name\").count().show()"
   ]
  },
  {
   "cell_type": "code",
   "execution_count": 19,
   "id": "d9b5dffe",
   "metadata": {},
   "outputs": [
    {
     "name": "stdout",
     "output_type": "stream",
     "text": [
      "+-------+--------+\n",
      "|   name|sum(age)|\n",
      "+-------+--------+\n",
      "|Michael|      30|\n",
      "|     a2|      50|\n",
      "|     a1|      50|\n",
      "|   Andy|      50|\n",
      "| Justin|      69|\n",
      "+-------+--------+\n",
      "\n"
     ]
    }
   ],
   "source": [
    "# Sum people age by name\n",
    "df.groupBy(\"name\").sum(\"age\").show()"
   ]
  },
  {
   "cell_type": "code",
   "execution_count": 20,
   "id": "3a7aa6eb",
   "metadata": {},
   "outputs": [
    {
     "name": "stdout",
     "output_type": "stream",
     "text": [
      "+---+-------+\n",
      "|age|   name|\n",
      "+---+-------+\n",
      "| 19| Justin|\n",
      "| 20|   Andy|\n",
      "| 30|Michael|\n",
      "| 30|   Andy|\n",
      "| 50| Justin|\n",
      "| 50|     a1|\n",
      "| 50|     a2|\n",
      "+---+-------+\n",
      "\n"
     ]
    }
   ],
   "source": [
    "# print top 20 rows sorted by age\n",
    "df.orderBy(\"age\").show(20)"
   ]
  },
  {
   "cell_type": "code",
   "execution_count": 21,
   "id": "8108459b",
   "metadata": {},
   "outputs": [
    {
     "name": "stdout",
     "output_type": "stream",
     "text": [
      "+-------+\n",
      "|   name|\n",
      "+-------+\n",
      "|Michael|\n",
      "|     a2|\n",
      "|     a1|\n",
      "|   Andy|\n",
      "| Justin|\n",
      "+-------+\n",
      "\n"
     ]
    }
   ],
   "source": [
    "# find distinct name\n",
    "df.select(\"name\").distinct().show()"
   ]
  },
  {
   "cell_type": "code",
   "execution_count": 22,
   "id": "535a6531",
   "metadata": {},
   "outputs": [],
   "source": [
    "# Save Processed Data\n",
    "df.write.mode(\"overwrite\").csv(\"/home/a/abs\",header=True)"
   ]
  },
  {
   "cell_type": "code",
   "execution_count": 5,
   "id": "e0a5407c",
   "metadata": {},
   "outputs": [],
   "source": [
    "# Running SQL Queries\n",
    "# Register the DataFrame as a SQL temporary view\n",
    "df.createOrReplaceTempView(\"people\")"
   ]
  },
  {
   "cell_type": "code",
   "execution_count": 6,
   "id": "94a7a809",
   "metadata": {},
   "outputs": [
    {
     "name": "stdout",
     "output_type": "stream",
     "text": [
      "+---+-------+\n",
      "|age|   name|\n",
      "+---+-------+\n",
      "| 30|Michael|\n",
      "| 30|   Andy|\n",
      "| 19| Justin|\n",
      "| 20|   Andy|\n",
      "| 50| Justin|\n",
      "| 50|     a1|\n",
      "| 50|     a2|\n",
      "+---+-------+\n",
      "\n"
     ]
    }
   ],
   "source": [
    "# print all the fields\n",
    "sqlDF=spark.sql(\"SELECT * FROM people\")\n",
    "sqlDF.show()"
   ]
  },
  {
   "cell_type": "code",
   "execution_count": 7,
   "id": "ecf6f613",
   "metadata": {},
   "outputs": [
    {
     "name": "stdout",
     "output_type": "stream",
     "text": [
      "+-------+\n",
      "|   name|\n",
      "+-------+\n",
      "|Michael|\n",
      "|   Andy|\n",
      "| Justin|\n",
      "|   Andy|\n",
      "| Justin|\n",
      "|     a1|\n",
      "|     a2|\n",
      "+-------+\n",
      "\n"
     ]
    }
   ],
   "source": [
    "# print name  field only\n",
    "spark.sql(\"SELECT name FROM people\").show()"
   ]
  },
  {
   "cell_type": "code",
   "execution_count": 8,
   "id": "7738f81b",
   "metadata": {},
   "outputs": [
    {
     "name": "stdout",
     "output_type": "stream",
     "text": [
      "+---+-------+\n",
      "|age|   name|\n",
      "+---+-------+\n",
      "| 30|Michael|\n",
      "| 30|   Andy|\n",
      "| 50| Justin|\n",
      "| 50|     a1|\n",
      "| 50|     a2|\n",
      "+---+-------+\n",
      "\n"
     ]
    }
   ],
   "source": [
    "# filter all the rows , having age >20\n",
    "spark.sql(\"SELECT * FROM people where age >20\").show()"
   ]
  },
  {
   "cell_type": "code",
   "execution_count": null,
   "id": "cb559673",
   "metadata": {},
   "outputs": [],
   "source": []
  },
  {
   "cell_type": "code",
   "execution_count": null,
   "id": "b7e8d155",
   "metadata": {},
   "outputs": [],
   "source": []
  }
 ],
 "metadata": {
  "kernelspec": {
   "display_name": "Python 3 (ipykernel)",
   "language": "python",
   "name": "python3"
  },
  "language_info": {
   "codemirror_mode": {
    "name": "ipython",
    "version": 3
   },
   "file_extension": ".py",
   "mimetype": "text/x-python",
   "name": "python",
   "nbconvert_exporter": "python",
   "pygments_lexer": "ipython3",
   "version": "3.7.13"
  }
 },
 "nbformat": 4,
 "nbformat_minor": 5
}
