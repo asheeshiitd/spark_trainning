{
 "cells": [
  {
   "cell_type": "markdown",
   "id": "54834884",
   "metadata": {},
   "source": [
    "# Create TF-Records"
   ]
  },
  {
   "cell_type": "code",
   "execution_count": 2,
   "id": "3e23d489",
   "metadata": {},
   "outputs": [],
   "source": [
    "from pyspark.sql import SparkSession"
   ]
  },
  {
   "cell_type": "code",
   "execution_count": 3,
   "id": "ca7cd2ff",
   "metadata": {},
   "outputs": [
    {
     "name": "stderr",
     "output_type": "stream",
     "text": [
      "22/03/23 15:34:32 WARN Utils: Your hostname, a-Lenovo-Legion-Y530-15ICH resolves to a loopback address: 127.0.1.1; using 192.168.1.12 instead (on interface wlp7s0)\n",
      "22/03/23 15:34:32 WARN Utils: Set SPARK_LOCAL_IP if you need to bind to another address\n",
      "22/03/23 15:34:33 WARN NativeCodeLoader: Unable to load native-hadoop library for your platform... using builtin-java classes where applicable\n",
      "Using Spark's default log4j profile: org/apache/spark/log4j-defaults.properties\n",
      "Setting default log level to \"WARN\".\n",
      "To adjust logging level use sc.setLogLevel(newLevel). For SparkR, use setLogLevel(newLevel).\n",
      "22/03/23 15:34:34 WARN Utils: Service 'SparkUI' could not bind on port 4040. Attempting port 4041.\n",
      "22/03/23 15:34:34 WARN Utils: Service 'SparkUI' could not bind on port 4041. Attempting port 4042.\n",
      "22/03/23 15:34:34 WARN Utils: Service 'SparkUI' could not bind on port 4042. Attempting port 4043.\n"
     ]
    }
   ],
   "source": [
    "# Create SparkSession and  \n",
    "\n",
    "spark = SparkSession.builder.config(\"spark.jars\", \"/media/a/StudioSpaceByMe/workspace/toko/src/spark_training/spark-tensorflow-connector_2.11-1.15.0.jar\").appName(\"asheesh\").getOrCreate()"
   ]
  },
  {
   "cell_type": "code",
   "execution_count": 4,
   "id": "42450447",
   "metadata": {},
   "outputs": [
    {
     "name": "stdout",
     "output_type": "stream",
     "text": [
      "+---+-------+\n",
      "|age|   name|\n",
      "+---+-------+\n",
      "| 30|Michael|\n",
      "| 30|   Andy|\n",
      "| 19| Justin|\n",
      "| 20|   Andy|\n",
      "| 50| Justin|\n",
      "| 50|     a1|\n",
      "| 50|     a2|\n",
      "+---+-------+\n",
      "\n"
     ]
    }
   ],
   "source": [
    "df = spark.read.json(\"/media/a/StudioSpaceByMe/workspace/toko/src/spark_training/people.json\")\n",
    "df.show()"
   ]
  },
  {
   "cell_type": "code",
   "execution_count": 5,
   "id": "62f6978a",
   "metadata": {},
   "outputs": [],
   "source": [
    "path=\"/home/a/abs\"\n",
    "df.write.format(\"tfrecords\").option(\"recordType\", \"Example\").mode('overwrite').save(path)"
   ]
  },
  {
   "cell_type": "code",
   "execution_count": 6,
   "id": "82625b8b",
   "metadata": {},
   "outputs": [
    {
     "name": "stdout",
     "output_type": "stream",
     "text": [
      "total 4\r\n",
      "-rw-r--r-- 1 a a 353 Mar 23 15:35 part-r-00000\r\n",
      "-rw-r--r-- 1 a a   0 Mar 23 15:35 _SUCCESS\r\n"
     ]
    }
   ],
   "source": [
    "! ls -lrt /home/a/abs"
   ]
  },
  {
   "cell_type": "code",
   "execution_count": null,
   "id": "dd5fed02",
   "metadata": {},
   "outputs": [],
   "source": []
  }
 ],
 "metadata": {
  "kernelspec": {
   "display_name": "Python 3 (ipykernel)",
   "language": "python",
   "name": "python3"
  },
  "language_info": {
   "codemirror_mode": {
    "name": "ipython",
    "version": 3
   },
   "file_extension": ".py",
   "mimetype": "text/x-python",
   "name": "python",
   "nbconvert_exporter": "python",
   "pygments_lexer": "ipython3",
   "version": "3.7.13"
  }
 },
 "nbformat": 4,
 "nbformat_minor": 5
}
